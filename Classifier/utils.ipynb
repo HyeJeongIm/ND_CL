{
 "cells": [
  {
   "cell_type": "markdown",
   "metadata": {},
   "source": [
    "### 01. MP4 -> Image"
   ]
  },
  {
   "cell_type": "code",
   "execution_count": 3,
   "metadata": {},
   "outputs": [
    {
     "name": "stderr",
     "output_type": "stream",
     "text": [
      "100%|█████████▉| 522/523 [00:02<00:00, 184.44it/s]"
     ]
    },
    {
     "name": "stdout",
     "output_type": "stream",
     "text": [
      "Success!\n"
     ]
    },
    {
     "name": "stderr",
     "output_type": "stream",
     "text": [
      "\n"
     ]
    }
   ],
   "source": [
    "'''\n",
    "    mp4 to image\n",
    "'''\n",
    "\n",
    "import os\n",
    "import cv2\n",
    "import shutil\n",
    "from tqdm import tqdm\n",
    "\n",
    "# 동영상 경로와 저장 경로 설정\n",
    "name = 'car3'\n",
    "video_path = f\"dataset/video/{name}.mp4\"\n",
    "save_dir = f\"dataset/image/{name}\"\n",
    "\n",
    "# 저장 경로가 없으면 생성\n",
    "if not os.path.exists(save_dir):\n",
    "    os.makedirs(save_dir)\n",
    "\n",
    "def get_frame_from_video(video_path, save_dir):\n",
    "    # 동영상 파일 열기\n",
    "    video = cv2.VideoCapture(video_path)\n",
    "    if not video.isOpened():\n",
    "        raise Exception(\"Video load error\")\n",
    "\n",
    "    len_video = int(video.get(cv2.CAP_PROP_FRAME_COUNT))\n",
    "    fps = int(video.get(cv2.CAP_PROP_FPS))\n",
    "\n",
    "    # 저장할 폴더 설정\n",
    "    images_save_folder = save_dir\n",
    "    if os.path.exists(images_save_folder):\n",
    "        shutil.rmtree(images_save_folder)\n",
    "    os.makedirs(images_save_folder)\n",
    "    \n",
    "    # 비디오 프레임 저장\n",
    "    count = 0\n",
    "    success = True\n",
    "    with tqdm(total=len_video) as pbar:\n",
    "        while success:\n",
    "            success, image = video.read()\n",
    "            if not success:\n",
    "                break\n",
    "            save_idx = str(count + 1).zfill(5)\n",
    "            save_image_path = os.path.join(images_save_folder, f\"frame_{save_idx}.jpg\")\n",
    "            cv2.imwrite(save_image_path, image)\n",
    "            count += 1\n",
    "            pbar.update(1)\n",
    "    video.release()\n",
    "    print(\"Success!\")\n",
    "\n",
    "# 함수 호출\n",
    "get_frame_from_video(video_path, save_dir)"
   ]
  },
  {
   "cell_type": "markdown",
   "metadata": {},
   "source": [
    "### 02. 각 폴더 이미지 개수 맞추기 "
   ]
  },
  {
   "cell_type": "code",
   "execution_count": 4,
   "metadata": {},
   "outputs": [
    {
     "name": "stdout",
     "output_type": "stream",
     "text": [
      "Initial image counts:\n",
      "dataset/image/car2: 481 images\n",
      "dataset/image/car1: 597 images\n",
      "dataset/image/car3: 522 images\n",
      "\n",
      "Folder: dataset/image/car2 - No images deleted\n",
      "\n",
      "Folder: dataset/image/car1 - Deleted 116 images\n",
      "\n",
      "Folder: dataset/image/car3 - Deleted 41 images\n",
      "\n",
      "Final image counts:\n",
      "dataset/image/car2: 481 images\n",
      "dataset/image/car1: 481 images\n",
      "dataset/image/car3: 481 images\n"
     ]
    }
   ],
   "source": [
    "'''\n",
    "    각 폴더의 초기 이미지 개수를 출력\n",
    "    모든 폴더에서 이미지 파일 개수를 가장 작은 폴더에 맞추어 조정\n",
    "    조정 후 각 폴더의 최종 이미지 개수를 출력\n",
    "'''\n",
    "\n",
    "import os\n",
    "import random\n",
    "\n",
    "# 기본 경로 설정\n",
    "base_path = \"dataset/image\"\n",
    "\n",
    "def get_image_files(folder_path):\n",
    "    return [f for f in os.listdir(folder_path) if os.path.isfile(os.path.join(folder_path, f))]\n",
    "\n",
    "def equalize_image_counts(base_path):\n",
    "    folder_paths = [os.path.join(base_path, folder) for folder in os.listdir(base_path) if os.path.isdir(os.path.join(base_path, folder))]\n",
    "    image_counts = {folder: len(get_image_files(folder)) for folder in folder_paths}\n",
    "\n",
    "    # 각 폴더의 초기 이미지 개수 출력\n",
    "    print(\"Initial image counts:\")\n",
    "    for folder, count in image_counts.items():\n",
    "        print(f\"{folder}: {count} images\")\n",
    "\n",
    "    # 가장 적은 이미지 개수 찾기\n",
    "    min_count = min(image_counts.values())\n",
    "\n",
    "    # 각 폴더의 이미지 개수를 min_count에 맞추기\n",
    "    for folder, count in image_counts.items():\n",
    "        if count > min_count:\n",
    "            image_files = get_image_files(folder)\n",
    "            images_to_delete = random.sample(image_files, count - min_count)\n",
    "            for image in images_to_delete:\n",
    "                os.remove(os.path.join(folder, image))\n",
    "            print(f\"\\nFolder: {folder} - Deleted {count - min_count} images\")\n",
    "        else:\n",
    "            print(f\"\\nFolder: {folder} - No images deleted\")\n",
    "\n",
    "    # 각 폴더의 최종 이미지 개수 출력\n",
    "    final_image_counts = {folder: len(get_image_files(folder)) for folder in folder_paths}\n",
    "    print(\"\\nFinal image counts:\")\n",
    "    for folder, count in final_image_counts.items():\n",
    "        print(f\"{folder}: {count} images\")\n",
    "\n",
    "# 함수 호출\n",
    "equalize_image_counts(base_path)\n"
   ]
  },
  {
   "cell_type": "markdown",
   "metadata": {},
   "source": [
    "### 03. Train / Valid / Test"
   ]
  },
  {
   "cell_type": "code",
   "execution_count": 5,
   "metadata": {},
   "outputs": [
    {
     "name": "stdout",
     "output_type": "stream",
     "text": [
      "Class 'car2' - Train: 288, Valid: 96, Test: 97\n",
      "Class 'car1' - Train: 288, Valid: 96, Test: 97\n",
      "Class 'car3' - Train: 288, Valid: 96, Test: 97\n"
     ]
    }
   ],
   "source": [
    "import os\n",
    "import shutil\n",
    "import random\n",
    "\n",
    "# 데이터셋 경로 설정\n",
    "dataset_dir = \"dataset/image\"\n",
    "train_dir = \"dataset/v1/train\"\n",
    "valid_dir = \"dataset/v1/valid\"\n",
    "test_dir = \"dataset/v1/test\"\n",
    "\n",
    "# 디렉토리 생성 함수\n",
    "def create_dir(dir_path):\n",
    "    if not os.path.exists(dir_path):\n",
    "        os.makedirs(dir_path)\n",
    "\n",
    "# 디렉토리 생성\n",
    "create_dir(train_dir)\n",
    "create_dir(valid_dir)\n",
    "create_dir(test_dir)\n",
    "\n",
    "# 각 클래스별로 데이터셋 분할 및 이미지 개수 출력\n",
    "for class_folder in os.listdir(dataset_dir):\n",
    "    class_path = os.path.join(dataset_dir, class_folder)\n",
    "    if os.path.isdir(class_path):\n",
    "        images = os.listdir(class_path)\n",
    "        random.shuffle(images)\n",
    "        \n",
    "        train_split = int(0.6 * len(images))\n",
    "        valid_split = int(0.8 * len(images))\n",
    "        \n",
    "        train_images = images[:train_split]\n",
    "        valid_images = images[train_split:valid_split]\n",
    "        test_images = images[valid_split:]\n",
    "        \n",
    "        # 각 데이터셋에 해당하는 디렉토리 생성\n",
    "        create_dir(os.path.join(train_dir, class_folder))\n",
    "        create_dir(os.path.join(valid_dir, class_folder))\n",
    "        create_dir(os.path.join(test_dir, class_folder))\n",
    "        \n",
    "        # 이미지 파일 이동\n",
    "        for img in train_images:\n",
    "            shutil.move(os.path.join(class_path, img), os.path.join(train_dir, class_folder, img))\n",
    "        for img in valid_images:\n",
    "            shutil.move(os.path.join(class_path, img), os.path.join(valid_dir, class_folder, img))\n",
    "        for img in test_images:\n",
    "            shutil.move(os.path.join(class_path, img), os.path.join(test_dir, class_folder, img))\n",
    "        \n",
    "        # 각 데이터셋의 이미지 개수 출력\n",
    "        print(f\"Class '{class_folder}' - Train: {len(train_images)}, Valid: {len(valid_images)}, Test: {len(test_images)}\")\n",
    "\n"
   ]
  },
  {
   "cell_type": "code",
   "execution_count": null,
   "metadata": {},
   "outputs": [],
   "source": []
  }
 ],
 "metadata": {
  "kernelspec": {
   "display_name": "hj",
   "language": "python",
   "name": "python3"
  },
  "language_info": {
   "codemirror_mode": {
    "name": "ipython",
    "version": 3
   },
   "file_extension": ".py",
   "mimetype": "text/x-python",
   "name": "python",
   "nbconvert_exporter": "python",
   "pygments_lexer": "ipython3",
   "version": "3.9.19"
  }
 },
 "nbformat": 4,
 "nbformat_minor": 2
}
